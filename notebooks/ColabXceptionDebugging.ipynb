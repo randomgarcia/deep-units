{
  "nbformat": 4,
  "nbformat_minor": 0,
  "metadata": {
    "kernelspec": {
      "display_name": "Python 3",
      "language": "python",
      "name": "python3"
    },
    "language_info": {
      "codemirror_mode": {
        "name": "ipython",
        "version": 3
      },
      "file_extension": ".py",
      "mimetype": "text/x-python",
      "name": "python",
      "nbconvert_exporter": "python",
      "pygments_lexer": "ipython3",
      "version": "3.8.5"
    },
    "colab": {
      "name": "XceptionDebugging.ipynb",
      "provenance": []
    }
  },
  "cells": [
    {
      "cell_type": "code",
      "metadata": {
        "id": "iO5uLf1c_m37"
      },
      "source": [
        "import sys\n",
        "sys.path.append('D:/Code/Python/deepunits')"
      ],
      "execution_count": null,
      "outputs": []
    },
    {
      "cell_type": "code",
      "metadata": {
        "id": "2CG65NIO_m4S"
      },
      "source": [
        "from tensorflow.keras.layers import Input\n",
        "import tensorflow as tf\n",
        "from deepunits.xception import XceptionBase, XceptionUnit\n",
        "from deepunits.models import DeepModel\n",
        "from deepunits import ConvUnit"
      ],
      "execution_count": null,
      "outputs": []
    },
    {
      "cell_type": "code",
      "metadata": {
        "id": "awAUtCbf_m4U"
      },
      "source": [
        "cv = ConvUnit([32])"
      ],
      "execution_count": null,
      "outputs": []
    },
    {
      "cell_type": "code",
      "metadata": {
        "id": "-s02Q0Nq_m4V"
      },
      "source": [
        "xc = XceptionUnit.create(32,2)"
      ],
      "execution_count": null,
      "outputs": []
    },
    {
      "cell_type": "code",
      "metadata": {
        "id": "nSuI5s4-_m4W"
      },
      "source": [
        "x = Input((96,96,3))"
      ],
      "execution_count": null,
      "outputs": []
    },
    {
      "cell_type": "code",
      "metadata": {
        "id": "ZWDblolV_m4X"
      },
      "source": [
        "z = cv(x)"
      ],
      "execution_count": null,
      "outputs": []
    },
    {
      "cell_type": "code",
      "metadata": {
        "id": "eCvMIDDm_m4Y"
      },
      "source": [
        "y = xc(z)"
      ],
      "execution_count": null,
      "outputs": []
    },
    {
      "cell_type": "code",
      "metadata": {
        "id": "prD8pbmY_m4Y",
        "outputId": "67e95e90-35d3-4641-a8b1-84861c0a3f0d"
      },
      "source": [
        "y"
      ],
      "execution_count": null,
      "outputs": [
        {
          "output_type": "execute_result",
          "data": {
            "text/plain": [
              "<tf.Tensor 'add/add:0' shape=(None, 96, 96, 32) dtype=float32>"
            ]
          },
          "metadata": {
            "tags": []
          },
          "execution_count": 8
        }
      ]
    },
    {
      "cell_type": "code",
      "metadata": {
        "id": "AcNjH2Mk_m4c",
        "outputId": "48c20052-7c8f-4677-f81d-e4240aa4a68a"
      },
      "source": [
        "temp = tf.keras.Model(x,y)\n",
        "temp.summary()"
      ],
      "execution_count": null,
      "outputs": [
        {
          "output_type": "stream",
          "text": [
            "Model: \"functional_1\"\n",
            "__________________________________________________________________________________________________\n",
            "Layer (type)                    Output Shape         Param #     Connected to                     \n",
            "==================================================================================================\n",
            "input_1 (InputLayer)            [(None, 96, 96, 3)]  0                                            \n",
            "__________________________________________________________________________________________________\n",
            "conv2d (Conv2D)                 (None, 96, 96, 32)   896         input_1[0][0]                    \n",
            "__________________________________________________________________________________________________\n",
            "activation (Activation)         (None, 96, 96, 32)   0           conv2d[0][0]                     \n",
            "__________________________________________________________________________________________________\n",
            "separable_conv2d (SeparableConv (None, 96, 96, 32)   1312        activation[0][0]                 \n",
            "__________________________________________________________________________________________________\n",
            "batch_normalization (BatchNorma (None, 96, 96, 32)   128         separable_conv2d[0][0]           \n",
            "__________________________________________________________________________________________________\n",
            "activation_1 (Activation)       (None, 96, 96, 32)   0           batch_normalization[0][0]        \n",
            "__________________________________________________________________________________________________\n",
            "separable_conv2d_1 (SeparableCo (None, 96, 96, 32)   1312        activation_1[0][0]               \n",
            "__________________________________________________________________________________________________\n",
            "batch_normalization_1 (BatchNor (None, 96, 96, 32)   128         separable_conv2d_1[0][0]         \n",
            "__________________________________________________________________________________________________\n",
            "activation_2 (Activation)       (None, 96, 96, 32)   0           batch_normalization_1[0][0]      \n",
            "__________________________________________________________________________________________________\n",
            "add (Add)                       (None, 96, 96, 32)   0           activation_2[0][0]               \n",
            "                                                                 activation[0][0]                 \n",
            "==================================================================================================\n",
            "Total params: 3,776\n",
            "Trainable params: 3,648\n",
            "Non-trainable params: 128\n",
            "__________________________________________________________________________________________________\n"
          ],
          "name": "stdout"
        }
      ]
    },
    {
      "cell_type": "code",
      "metadata": {
        "id": "i0x23V18_m4d"
      },
      "source": [
        "densenet = DeepModel.dense_net()"
      ],
      "execution_count": null,
      "outputs": []
    },
    {
      "cell_type": "code",
      "metadata": {
        "id": "vL4z4dja_m4e"
      },
      "source": [
        "y = densenet(x)"
      ],
      "execution_count": null,
      "outputs": []
    },
    {
      "cell_type": "code",
      "metadata": {
        "id": "csTTU_NT_m4f"
      },
      "source": [
        "y"
      ],
      "execution_count": null,
      "outputs": []
    },
    {
      "cell_type": "code",
      "metadata": {
        "id": "hsBtMoTY_m4g"
      },
      "source": [
        "mdl = tf.keras.Model(x,y)\n",
        "mdl.summary()"
      ],
      "execution_count": null,
      "outputs": []
    }
  ]
}